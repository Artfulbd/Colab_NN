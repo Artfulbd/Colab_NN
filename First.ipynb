import torch
import torchvision
import matplotlib.pyplot as plt
from torchvision import datasets, transforms
